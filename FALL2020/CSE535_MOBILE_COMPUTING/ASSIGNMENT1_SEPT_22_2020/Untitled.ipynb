{
 "cells": [
  {
   "cell_type": "code",
   "execution_count": 1,
   "metadata": {},
   "outputs": [
    {
     "ename": "ModuleNotFoundError",
     "evalue": "No module named 'matplotlib'",
     "output_type": "error",
     "traceback": [
      "\u001b[0;31m---------------------------------------------------------------------------\u001b[0m",
      "\u001b[0;31mModuleNotFoundError\u001b[0m                       Traceback (most recent call last)",
      "\u001b[0;32m<ipython-input-1-675f524c12d2>\u001b[0m in \u001b[0;36m<module>\u001b[0;34m\u001b[0m\n\u001b[0;32m----> 1\u001b[0;31m \u001b[0;32mimport\u001b[0m \u001b[0mmatplotlib\u001b[0m\u001b[0;34m.\u001b[0m\u001b[0mpyplot\u001b[0m \u001b[0;32mas\u001b[0m \u001b[0mplt\u001b[0m\u001b[0;34m\u001b[0m\u001b[0;34m\u001b[0m\u001b[0m\n\u001b[0m\u001b[1;32m      2\u001b[0m \u001b[0;32mimport\u001b[0m \u001b[0mpandas\u001b[0m \u001b[0;32mas\u001b[0m \u001b[0mpd\u001b[0m\u001b[0;34m\u001b[0m\u001b[0;34m\u001b[0m\u001b[0m\n\u001b[1;32m      3\u001b[0m \u001b[0;34m\u001b[0m\u001b[0m\n\u001b[1;32m      4\u001b[0m \u001b[0;34m\u001b[0m\u001b[0m\n\u001b[1;32m      5\u001b[0m \u001b[0;31m#df = pd.read_csv('D:\\Studies\\MS-Computer-Science\\FALL2020\\CSE535_MOBILE_COMPUTING\\ASSIGNMENT1_SEPT_22_2020\\CSVBreathe.csv',skiprows=450,nrows=450)\u001b[0m\u001b[0;34m\u001b[0m\u001b[0;34m\u001b[0m\u001b[0;34m\u001b[0m\u001b[0m\n",
      "\u001b[0;31mModuleNotFoundError\u001b[0m: No module named 'matplotlib'"
     ]
    }
   ],
   "source": [
    "import matplotlib.pyplot as plt\n",
    "import pandas as pd\n",
    "\n",
    "\n",
    "#df = pd.read_csv('D:\\Studies\\MS-Computer-Science\\FALL2020\\CSE535_MOBILE_COMPUTING\\ASSIGNMENT1_SEPT_22_2020\\CSVBreathe.csv',skiprows=450,nrows=450)\n",
    "#df2 = pd.read_csv('D:\\Studies\\MS-Computer-Science\\FALL2020\\CSE535_MOBILE_COMPUTING\\ASSIGNMENT1_SEPT_22_2020\\CSVBreathe2.csv')\n",
    "\n",
    "#list=df['0.0'].values.tolist()\n",
    "#list\n",
    "\n",
    "#i = 0\n",
    "#x = 20\n",
    "#for j in range(x,450):\n",
    "#    sum = 0.0\n",
    "#    \n",
    "#    for k in range(i,j):\n",
    "#            sum += list[k]\n",
    "#    list[i] = sum / 20;\n",
    "#    i += 1\n",
    "\n",
    "#list\n",
    "#df2 = pd.DataFrame(list)\n",
    "\n",
    "\n",
    "#plt.plot(df)\n",
    "#plt.plot(df2,color = 'orange')\n",
    "#plt.show()\n",
    "\n",
    "df = pd.read_csv('D:\\Studies\\MS-Computer-Science\\FALL2020\\CSE535_MOBILE_COMPUTING\\ASSIGNMENT1_SEPT_22_2020\\heartRateRedIntensity.csv')\n",
    "dfs = pd.read_csv('D:\\Studies\\MS-Computer-Science\\FALL2020\\CSE535_MOBILE_COMPUTING\\ASSIGNMENT1_SEPT_22_2020\\heartRateRedIntensitySmoothed.csv')\n",
    "\n",
    "\n",
    "\n",
    "\n",
    "\n",
    "plt.plot(df)\n",
    "plt.plot(dfs,color = 'orange')\n",
    "plt.show()\n"
   ]
  },
  {
   "cell_type": "code",
   "execution_count": null,
   "metadata": {},
   "outputs": [],
   "source": []
  }
 ],
 "metadata": {
  "kernelspec": {
   "display_name": "Python 3",
   "language": "python",
   "name": "python3"
  },
  "language_info": {
   "codemirror_mode": {
    "name": "ipython",
    "version": 3
   },
   "file_extension": ".py",
   "mimetype": "text/x-python",
   "name": "python",
   "nbconvert_exporter": "python",
   "pygments_lexer": "ipython3",
   "version": "3.8.3"
  }
 },
 "nbformat": 4,
 "nbformat_minor": 4
}
